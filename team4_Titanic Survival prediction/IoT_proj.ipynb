{
  "nbformat": 4,
  "nbformat_minor": 0,
  "metadata": {
    "colab": {
      "name": "IoT proj.ipynb",
      "provenance": []
    },
    "kernelspec": {
      "name": "python3",
      "display_name": "Python 3"
    },
    "language_info": {
      "name": "python"
    }
  },
  "cells": [
    {
      "cell_type": "code",
      "metadata": {
        "id": "F9Q-ypiOs61e"
      },
      "source": [
        "import requests\n",
        "import json\n",
        "import pprint\n",
        "import pandas as pd\n",
        "import numpy as np\n",
        "import matplotlib.pyplot as plt\n",
        "import seaborn as sns"
      ],
      "execution_count": null,
      "outputs": []
    },
    {
      "cell_type": "markdown",
      "metadata": {
        "id": "ia1lgV6hLBNm"
      },
      "source": [
        "<h1>== request data ==</h1>"
      ]
    },
    {
      "cell_type": "code",
      "metadata": {
        "colab": {
          "base_uri": "https://localhost:8080/",
          "height": 204
        },
        "id": "LOZ7hDJ6s_nX",
        "outputId": "7fc58ae2-d3c0-4259-e6c4-ae36fe1fbe17"
      },
      "source": [
        "response = requests.get('https://public.opendatasoft.com/api/records/1.0/search/?dataset=titanic-passengers&q=&rows=891&facet=survived&facet=pclass&facet=sex&facet=age&facet=embarked')\n",
        "rawData = response.json()\n",
        "selectData = []\n",
        "data = rawData['records']\n",
        "for i in range(len(data)):\n",
        "  selectData.append(data[i]['fields'])\n",
        "df = pd.DataFrame(selectData)\n",
        "\n",
        "df.head()"
      ],
      "execution_count": null,
      "outputs": [
        {
          "output_type": "execute_result",
          "data": {
            "text/html": [
              "<div>\n",
              "<style scoped>\n",
              "    .dataframe tbody tr th:only-of-type {\n",
              "        vertical-align: middle;\n",
              "    }\n",
              "\n",
              "    .dataframe tbody tr th {\n",
              "        vertical-align: top;\n",
              "    }\n",
              "\n",
              "    .dataframe thead th {\n",
              "        text-align: right;\n",
              "    }\n",
              "</style>\n",
              "<table border=\"1\" class=\"dataframe\">\n",
              "  <thead>\n",
              "    <tr style=\"text-align: right;\">\n",
              "      <th></th>\n",
              "      <th>fare</th>\n",
              "      <th>name</th>\n",
              "      <th>embarked</th>\n",
              "      <th>age</th>\n",
              "      <th>parch</th>\n",
              "      <th>pclass</th>\n",
              "      <th>sex</th>\n",
              "      <th>survived</th>\n",
              "      <th>ticket</th>\n",
              "      <th>passengerid</th>\n",
              "      <th>sibsp</th>\n",
              "      <th>cabin</th>\n",
              "    </tr>\n",
              "  </thead>\n",
              "  <tbody>\n",
              "    <tr>\n",
              "      <th>0</th>\n",
              "      <td>7.7750</td>\n",
              "      <td>Birkeland, Mr. Hans Martin Monsen</td>\n",
              "      <td>S</td>\n",
              "      <td>21.0</td>\n",
              "      <td>0</td>\n",
              "      <td>3</td>\n",
              "      <td>male</td>\n",
              "      <td>No</td>\n",
              "      <td>312992</td>\n",
              "      <td>409</td>\n",
              "      <td>0</td>\n",
              "      <td>NaN</td>\n",
              "    </tr>\n",
              "    <tr>\n",
              "      <th>1</th>\n",
              "      <td>7.9250</td>\n",
              "      <td>Heikkinen, Miss. Laina</td>\n",
              "      <td>S</td>\n",
              "      <td>26.0</td>\n",
              "      <td>0</td>\n",
              "      <td>3</td>\n",
              "      <td>female</td>\n",
              "      <td>Yes</td>\n",
              "      <td>STON/O2. 3101282</td>\n",
              "      <td>3</td>\n",
              "      <td>0</td>\n",
              "      <td>NaN</td>\n",
              "    </tr>\n",
              "    <tr>\n",
              "      <th>2</th>\n",
              "      <td>7.9250</td>\n",
              "      <td>Sundman, Mr. Johan Julian</td>\n",
              "      <td>S</td>\n",
              "      <td>44.0</td>\n",
              "      <td>0</td>\n",
              "      <td>3</td>\n",
              "      <td>male</td>\n",
              "      <td>Yes</td>\n",
              "      <td>STON/O 2. 3101269</td>\n",
              "      <td>415</td>\n",
              "      <td>0</td>\n",
              "      <td>NaN</td>\n",
              "    </tr>\n",
              "    <tr>\n",
              "      <th>3</th>\n",
              "      <td>18.7500</td>\n",
              "      <td>Richards, Mrs. Sidney (Emily Hocking)</td>\n",
              "      <td>S</td>\n",
              "      <td>24.0</td>\n",
              "      <td>3</td>\n",
              "      <td>2</td>\n",
              "      <td>female</td>\n",
              "      <td>Yes</td>\n",
              "      <td>29106</td>\n",
              "      <td>438</td>\n",
              "      <td>2</td>\n",
              "      <td>NaN</td>\n",
              "    </tr>\n",
              "    <tr>\n",
              "      <th>4</th>\n",
              "      <td>89.1042</td>\n",
              "      <td>Goldenberg, Mrs. Samuel L (Edwiga Grabowska)</td>\n",
              "      <td>C</td>\n",
              "      <td>NaN</td>\n",
              "      <td>0</td>\n",
              "      <td>1</td>\n",
              "      <td>female</td>\n",
              "      <td>Yes</td>\n",
              "      <td>17453</td>\n",
              "      <td>850</td>\n",
              "      <td>1</td>\n",
              "      <td>C92</td>\n",
              "    </tr>\n",
              "  </tbody>\n",
              "</table>\n",
              "</div>"
            ],
            "text/plain": [
              "      fare                                          name  ... sibsp  cabin\n",
              "0   7.7750             Birkeland, Mr. Hans Martin Monsen  ...     0    NaN\n",
              "1   7.9250                        Heikkinen, Miss. Laina  ...     0    NaN\n",
              "2   7.9250                     Sundman, Mr. Johan Julian  ...     0    NaN\n",
              "3  18.7500         Richards, Mrs. Sidney (Emily Hocking)  ...     2    NaN\n",
              "4  89.1042  Goldenberg, Mrs. Samuel L (Edwiga Grabowska)  ...     1    C92\n",
              "\n",
              "[5 rows x 12 columns]"
            ]
          },
          "metadata": {
            "tags": []
          },
          "execution_count": 53
        }
      ]
    },
    {
      "cell_type": "markdown",
      "metadata": {
        "id": "Fd0vSCuaN6SU"
      },
      "source": [
        "<h1>== pre-processing ==</h1>"
      ]
    },
    {
      "cell_type": "markdown",
      "metadata": {
        "id": "KznSnLbLOnPm"
      },
      "source": [
        "<h4>- explore data -</h4>"
      ]
    },
    {
      "cell_type": "code",
      "metadata": {
        "colab": {
          "base_uri": "https://localhost:8080/",
          "height": 334
        },
        "id": "nn3D8qosM9Vv",
        "outputId": "07f1eea4-66e9-454b-8fa4-34879d575843"
      },
      "source": [
        "sns.heatmap(df.isnull(), yticklabels=False, cbar=False, cmap='viridis')"
      ],
      "execution_count": null,
      "outputs": [
        {
          "output_type": "execute_result",
          "data": {
            "text/plain": [
              "<matplotlib.axes._subplots.AxesSubplot at 0x7f9a779eae50>"
            ]
          },
          "metadata": {
            "tags": []
          },
          "execution_count": 54
        },
        {
          "output_type": "display_data",
          "data": {
            "image/png": "[encoded data removed]",
            "text/plain": [
              "<Figure size 432x288 with 1 Axes>"
            ]
          },
          "metadata": {
            "tags": []
          }
        }
      ]
    },
    {
      "cell_type": "markdown",
      "metadata": {
        "id": "SGNYO-DGPEhu"
      },
      "source": [
        "<h4>- fill missing data -</h4>"
      ]
    },
    {
      "cell_type": "code",
      "metadata": {
        "colab": {
          "base_uri": "https://localhost:8080/"
        },
        "id": "3Str4Eg7M-tf",
        "outputId": "83812930-5bdd-4792-bacb-25ab76dce1b6"
      },
      "source": [
        "df.groupby('pclass')['age'].median()"
      ],
      "execution_count": null,
      "outputs": [
        {
          "output_type": "execute_result",
          "data": {
            "text/plain": [
              "pclass\n",
              "1    37.0\n",
              "2    29.0\n",
              "3    24.0\n",
              "Name: age, dtype: float64"
            ]
          },
          "metadata": {
            "tags": []
          },
          "execution_count": 55
        }
      ]
    },
    {
      "cell_type": "code",
      "metadata": {
        "id": "n32dVdUrOV3Q"
      },
      "source": [
        "def impute_age(cols):\n",
        "    age = cols[0]\n",
        "    pclass = cols[1]\n",
        "    \n",
        "    if pd.isnull(age):\n",
        "        if pclass == 1:\n",
        "            return 37\n",
        "        elif pclass == 2:\n",
        "            return 29\n",
        "        else:\n",
        "            return 24\n",
        "    else:\n",
        "        return age\n",
        "\n",
        "df['age'] = df[['age','pclass']].apply(impute_age,axis=1)"
      ],
      "execution_count": null,
      "outputs": []
    },
    {
      "cell_type": "code",
      "metadata": {
        "colab": {
          "base_uri": "https://localhost:8080/"
        },
        "id": "MCvYWsOuQLXB",
        "outputId": "8ae237a2-e9d5-46d0-f245-267db73188b6"
      },
      "source": [
        "df['embarked'].mode()"
      ],
      "execution_count": null,
      "outputs": [
        {
          "output_type": "execute_result",
          "data": {
            "text/plain": [
              "0    S\n",
              "dtype: object"
            ]
          },
          "metadata": {
            "tags": []
          },
          "execution_count": 57
        }
      ]
    },
    {
      "cell_type": "code",
      "metadata": {
        "id": "CtqH92IGQds5"
      },
      "source": [
        "def impute_embarked(embarked):   \n",
        "    if pd.isnull(embarked):\n",
        "        return 'S'\n",
        "    else:\n",
        "        return embarked\n",
        "\n",
        "df['embarked'] = df['embarked'].apply(impute_embarked)"
      ],
      "execution_count": null,
      "outputs": []
    },
    {
      "cell_type": "code",
      "metadata": {
        "colab": {
          "base_uri": "https://localhost:8080/",
          "height": 334
        },
        "id": "oxEV_DzKQ9cD",
        "outputId": "6ac42098-210e-4ebf-9f8b-9168725af6df"
      },
      "source": [
        "sns.heatmap(df.isnull(), yticklabels=False, cbar=False, cmap='viridis')"
      ],
      "execution_count": null,
      "outputs": [
        {
          "output_type": "execute_result",
          "data": {
            "text/plain": [
              "<matplotlib.axes._subplots.AxesSubplot at 0x7f9a77a9a090>"
            ]
          },
          "metadata": {
            "tags": []
          },
          "execution_count": 59
        },
        {
          "output_type": "display_data",
          "data": {
            "image/png": "[encoded data removed]",
            "text/plain": [
              "<Figure size 432x288 with 1 Axes>"
            ]
          },
          "metadata": {
            "tags": []
          }
        }
      ]
    },
    {
      "cell_type": "markdown",
      "metadata": {
        "id": "w_X9AN4ZRYwX"
      },
      "source": [
        "<h4>- drop unsignificant column -</h4>"
      ]
    },
    {
      "cell_type": "code",
      "metadata": {
        "colab": {
          "base_uri": "https://localhost:8080/",
          "height": 204
        },
        "id": "Xz47MGS9RZZy",
        "outputId": "c8db0146-0e5c-485e-90ad-3acc72374960"
      },
      "source": [
        "df.drop(['cabin','name','ticket','passengerid'],axis=1,inplace=True)\n",
        "\n",
        "df.head()"
      ],
      "execution_count": null,
      "outputs": [
        {
          "output_type": "execute_result",
          "data": {
            "text/html": [
              "<div>\n",
              "<style scoped>\n",
              "    .dataframe tbody tr th:only-of-type {\n",
              "        vertical-align: middle;\n",
              "    }\n",
              "\n",
              "    .dataframe tbody tr th {\n",
              "        vertical-align: top;\n",
              "    }\n",
              "\n",
              "    .dataframe thead th {\n",
              "        text-align: right;\n",
              "    }\n",
              "</style>\n",
              "<table border=\"1\" class=\"dataframe\">\n",
              "  <thead>\n",
              "    <tr style=\"text-align: right;\">\n",
              "      <th></th>\n",
              "      <th>fare</th>\n",
              "      <th>embarked</th>\n",
              "      <th>age</th>\n",
              "      <th>parch</th>\n",
              "      <th>pclass</th>\n",
              "      <th>sex</th>\n",
              "      <th>survived</th>\n",
              "      <th>sibsp</th>\n",
              "    </tr>\n",
              "  </thead>\n",
              "  <tbody>\n",
              "    <tr>\n",
              "      <th>0</th>\n",
              "      <td>7.7750</td>\n",
              "      <td>S</td>\n",
              "      <td>21.0</td>\n",
              "      <td>0</td>\n",
              "      <td>3</td>\n",
              "      <td>male</td>\n",
              "      <td>No</td>\n",
              "      <td>0</td>\n",
              "    </tr>\n",
              "    <tr>\n",
              "      <th>1</th>\n",
              "      <td>7.9250</td>\n",
              "      <td>S</td>\n",
              "      <td>26.0</td>\n",
              "      <td>0</td>\n",
              "      <td>3</td>\n",
              "      <td>female</td>\n",
              "      <td>Yes</td>\n",
              "      <td>0</td>\n",
              "    </tr>\n",
              "    <tr>\n",
              "      <th>2</th>\n",
              "      <td>7.9250</td>\n",
              "      <td>S</td>\n",
              "      <td>44.0</td>\n",
              "      <td>0</td>\n",
              "      <td>3</td>\n",
              "      <td>male</td>\n",
              "      <td>Yes</td>\n",
              "      <td>0</td>\n",
              "    </tr>\n",
              "    <tr>\n",
              "      <th>3</th>\n",
              "      <td>18.7500</td>\n",
              "      <td>S</td>\n",
              "      <td>24.0</td>\n",
              "      <td>3</td>\n",
              "      <td>2</td>\n",
              "      <td>female</td>\n",
              "      <td>Yes</td>\n",
              "      <td>2</td>\n",
              "    </tr>\n",
              "    <tr>\n",
              "      <th>4</th>\n",
              "      <td>89.1042</td>\n",
              "      <td>C</td>\n",
              "      <td>37.0</td>\n",
              "      <td>0</td>\n",
              "      <td>1</td>\n",
              "      <td>female</td>\n",
              "      <td>Yes</td>\n",
              "      <td>1</td>\n",
              "    </tr>\n",
              "  </tbody>\n",
              "</table>\n",
              "</div>"
            ],
            "text/plain": [
              "      fare embarked   age  parch  pclass     sex survived  sibsp\n",
              "0   7.7750        S  21.0      0       3    male       No      0\n",
              "1   7.9250        S  26.0      0       3  female      Yes      0\n",
              "2   7.9250        S  44.0      0       3    male      Yes      0\n",
              "3  18.7500        S  24.0      3       2  female      Yes      2\n",
              "4  89.1042        C  37.0      0       1  female      Yes      1"
            ]
          },
          "metadata": {
            "tags": []
          },
          "execution_count": 60
        }
      ]
    },
    {
      "cell_type": "markdown",
      "metadata": {
        "id": "03lCUo54TjPZ"
      },
      "source": [
        "<h4>- convert categorical features -</h4>"
      ]
    },
    {
      "cell_type": "code",
      "metadata": {
        "id": "Hx0E-RZ8Ta-e"
      },
      "source": [
        "embarked = pd.get_dummies(df['embarked'],drop_first=True)\n",
        "sex = pd.get_dummies(df['sex'],drop_first=True)\n",
        "survived = pd.get_dummies(df['survived'],drop_first=True)"
      ],
      "execution_count": null,
      "outputs": []
    },
    {
      "cell_type": "code",
      "metadata": {
        "colab": {
          "base_uri": "https://localhost:8080/",
          "height": 204
        },
        "id": "N8Pku0XQUCST",
        "outputId": "8be1a95f-a204-492e-b115-2038e495f9bd"
      },
      "source": [
        "embarked.head()"
      ],
      "execution_count": null,
      "outputs": [
        {
          "output_type": "execute_result",
          "data": {
            "text/html": [
              "<div>\n",
              "<style scoped>\n",
              "    .dataframe tbody tr th:only-of-type {\n",
              "        vertical-align: middle;\n",
              "    }\n",
              "\n",
              "    .dataframe tbody tr th {\n",
              "        vertical-align: top;\n",
              "    }\n",
              "\n",
              "    .dataframe thead th {\n",
              "        text-align: right;\n",
              "    }\n",
              "</style>\n",
              "<table border=\"1\" class=\"dataframe\">\n",
              "  <thead>\n",
              "    <tr style=\"text-align: right;\">\n",
              "      <th></th>\n",
              "      <th>Q</th>\n",
              "      <th>S</th>\n",
              "    </tr>\n",
              "  </thead>\n",
              "  <tbody>\n",
              "    <tr>\n",
              "      <th>0</th>\n",
              "      <td>0</td>\n",
              "      <td>1</td>\n",
              "    </tr>\n",
              "    <tr>\n",
              "      <th>1</th>\n",
              "      <td>0</td>\n",
              "      <td>1</td>\n",
              "    </tr>\n",
              "    <tr>\n",
              "      <th>2</th>\n",
              "      <td>0</td>\n",
              "      <td>1</td>\n",
              "    </tr>\n",
              "    <tr>\n",
              "      <th>3</th>\n",
              "      <td>0</td>\n",
              "      <td>1</td>\n",
              "    </tr>\n",
              "    <tr>\n",
              "      <th>4</th>\n",
              "      <td>0</td>\n",
              "      <td>0</td>\n",
              "    </tr>\n",
              "  </tbody>\n",
              "</table>\n",
              "</div>"
            ],
            "text/plain": [
              "   Q  S\n",
              "0  0  1\n",
              "1  0  1\n",
              "2  0  1\n",
              "3  0  1\n",
              "4  0  0"
            ]
          },
          "metadata": {
            "tags": []
          },
          "execution_count": 62
        }
      ]
    },
    {
      "cell_type": "code",
      "metadata": {
        "colab": {
          "base_uri": "https://localhost:8080/",
          "height": 204
        },
        "id": "X4ToIJo_UNuz",
        "outputId": "7d53fc25-42e6-46a9-e636-c15f7988639c"
      },
      "source": [
        "sex.head()"
      ],
      "execution_count": null,
      "outputs": [
        {
          "output_type": "execute_result",
          "data": {
            "text/html": [
              "<div>\n",
              "<style scoped>\n",
              "    .dataframe tbody tr th:only-of-type {\n",
              "        vertical-align: middle;\n",
              "    }\n",
              "\n",
              "    .dataframe tbody tr th {\n",
              "        vertical-align: top;\n",
              "    }\n",
              "\n",
              "    .dataframe thead th {\n",
              "        text-align: right;\n",
              "    }\n",
              "</style>\n",
              "<table border=\"1\" class=\"dataframe\">\n",
              "  <thead>\n",
              "    <tr style=\"text-align: right;\">\n",
              "      <th></th>\n",
              "      <th>male</th>\n",
              "    </tr>\n",
              "  </thead>\n",
              "  <tbody>\n",
              "    <tr>\n",
              "      <th>0</th>\n",
              "      <td>1</td>\n",
              "    </tr>\n",
              "    <tr>\n",
              "      <th>1</th>\n",
              "      <td>0</td>\n",
              "    </tr>\n",
              "    <tr>\n",
              "      <th>2</th>\n",
              "      <td>1</td>\n",
              "    </tr>\n",
              "    <tr>\n",
              "      <th>3</th>\n",
              "      <td>0</td>\n",
              "    </tr>\n",
              "    <tr>\n",
              "      <th>4</th>\n",
              "      <td>0</td>\n",
              "    </tr>\n",
              "  </tbody>\n",
              "</table>\n",
              "</div>"
            ],
            "text/plain": [
              "   male\n",
              "0     1\n",
              "1     0\n",
              "2     1\n",
              "3     0\n",
              "4     0"
            ]
          },
          "metadata": {
            "tags": []
          },
          "execution_count": 63
        }
      ]
    },
    {
      "cell_type": "code",
      "metadata": {
        "colab": {
          "base_uri": "https://localhost:8080/",
          "height": 204
        },
        "id": "wHaipS0BUPQY",
        "outputId": "92463493-52b3-43ea-9bf2-fe72c77217c8"
      },
      "source": [
        "survived.head()"
      ],
      "execution_count": null,
      "outputs": [
        {
          "output_type": "execute_result",
          "data": {
            "text/html": [
              "<div>\n",
              "<style scoped>\n",
              "    .dataframe tbody tr th:only-of-type {\n",
              "        vertical-align: middle;\n",
              "    }\n",
              "\n",
              "    .dataframe tbody tr th {\n",
              "        vertical-align: top;\n",
              "    }\n",
              "\n",
              "    .dataframe thead th {\n",
              "        text-align: right;\n",
              "    }\n",
              "</style>\n",
              "<table border=\"1\" class=\"dataframe\">\n",
              "  <thead>\n",
              "    <tr style=\"text-align: right;\">\n",
              "      <th></th>\n",
              "      <th>Yes</th>\n",
              "    </tr>\n",
              "  </thead>\n",
              "  <tbody>\n",
              "    <tr>\n",
              "      <th>0</th>\n",
              "      <td>0</td>\n",
              "    </tr>\n",
              "    <tr>\n",
              "      <th>1</th>\n",
              "      <td>1</td>\n",
              "    </tr>\n",
              "    <tr>\n",
              "      <th>2</th>\n",
              "      <td>1</td>\n",
              "    </tr>\n",
              "    <tr>\n",
              "      <th>3</th>\n",
              "      <td>1</td>\n",
              "    </tr>\n",
              "    <tr>\n",
              "      <th>4</th>\n",
              "      <td>1</td>\n",
              "    </tr>\n",
              "  </tbody>\n",
              "</table>\n",
              "</div>"
            ],
            "text/plain": [
              "   Yes\n",
              "0    0\n",
              "1    1\n",
              "2    1\n",
              "3    1\n",
              "4    1"
            ]
          },
          "metadata": {
            "tags": []
          },
          "execution_count": 64
        }
      ]
    },
    {
      "cell_type": "code",
      "metadata": {
        "colab": {
          "base_uri": "https://localhost:8080/",
          "height": 204
        },
        "id": "qGokqFe_UVPA",
        "outputId": "8ff8ab33-7674-48e9-bbbd-1a6cd653770e"
      },
      "source": [
        "df.drop(['embarked','sex','survived'],axis=1,inplace=True)\n",
        "df = pd.concat([df,embarked,sex,survived],axis=1)\n",
        "\n",
        "df.head()"
      ],
      "execution_count": null,
      "outputs": [
        {
          "output_type": "execute_result",
          "data": {
            "text/html": [
              "<div>\n",
              "<style scoped>\n",
              "    .dataframe tbody tr th:only-of-type {\n",
              "        vertical-align: middle;\n",
              "    }\n",
              "\n",
              "    .dataframe tbody tr th {\n",
              "        vertical-align: top;\n",
              "    }\n",
              "\n",
              "    .dataframe thead th {\n",
              "        text-align: right;\n",
              "    }\n",
              "</style>\n",
              "<table border=\"1\" class=\"dataframe\">\n",
              "  <thead>\n",
              "    <tr style=\"text-align: right;\">\n",
              "      <th></th>\n",
              "      <th>fare</th>\n",
              "      <th>age</th>\n",
              "      <th>parch</th>\n",
              "      <th>pclass</th>\n",
              "      <th>sibsp</th>\n",
              "      <th>Q</th>\n",
              "      <th>S</th>\n",
              "      <th>male</th>\n",
              "      <th>Yes</th>\n",
              "    </tr>\n",
              "  </thead>\n",
              "  <tbody>\n",
              "    <tr>\n",
              "      <th>0</th>\n",
              "      <td>7.7750</td>\n",
              "      <td>21.0</td>\n",
              "      <td>0</td>\n",
              "      <td>3</td>\n",
              "      <td>0</td>\n",
              "      <td>0</td>\n",
              "      <td>1</td>\n",
              "      <td>1</td>\n",
              "      <td>0</td>\n",
              "    </tr>\n",
              "    <tr>\n",
              "      <th>1</th>\n",
              "      <td>7.9250</td>\n",
              "      <td>26.0</td>\n",
              "      <td>0</td>\n",
              "      <td>3</td>\n",
              "      <td>0</td>\n",
              "      <td>0</td>\n",
              "      <td>1</td>\n",
              "      <td>0</td>\n",
              "      <td>1</td>\n",
              "    </tr>\n",
              "    <tr>\n",
              "      <th>2</th>\n",
              "      <td>7.9250</td>\n",
              "      <td>44.0</td>\n",
              "      <td>0</td>\n",
              "      <td>3</td>\n",
              "      <td>0</td>\n",
              "      <td>0</td>\n",
              "      <td>1</td>\n",
              "      <td>1</td>\n",
              "      <td>1</td>\n",
              "    </tr>\n",
              "    <tr>\n",
              "      <th>3</th>\n",
              "      <td>18.7500</td>\n",
              "      <td>24.0</td>\n",
              "      <td>3</td>\n",
              "      <td>2</td>\n",
              "      <td>2</td>\n",
              "      <td>0</td>\n",
              "      <td>1</td>\n",
              "      <td>0</td>\n",
              "      <td>1</td>\n",
              "    </tr>\n",
              "    <tr>\n",
              "      <th>4</th>\n",
              "      <td>89.1042</td>\n",
              "      <td>37.0</td>\n",
              "      <td>0</td>\n",
              "      <td>1</td>\n",
              "      <td>1</td>\n",
              "      <td>0</td>\n",
              "      <td>0</td>\n",
              "      <td>0</td>\n",
              "      <td>1</td>\n",
              "    </tr>\n",
              "  </tbody>\n",
              "</table>\n",
              "</div>"
            ],
            "text/plain": [
              "      fare   age  parch  pclass  sibsp  Q  S  male  Yes\n",
              "0   7.7750  21.0      0       3      0  0  1     1    0\n",
              "1   7.9250  26.0      0       3      0  0  1     0    1\n",
              "2   7.9250  44.0      0       3      0  0  1     1    1\n",
              "3  18.7500  24.0      3       2      2  0  1     0    1\n",
              "4  89.1042  37.0      0       1      1  0  0     0    1"
            ]
          },
          "metadata": {
            "tags": []
          },
          "execution_count": 65
        }
      ]
    },
    {
      "cell_type": "markdown",
      "metadata": {
        "id": "bLNOIE8CU-ZP"
      },
      "source": [
        "<h1>== building logistic regression model ==</h1>"
      ]
    },
    {
      "cell_type": "markdown",
      "metadata": {
        "id": "76jSaD6aVNIu"
      },
      "source": [
        "<h4>- train&test splitting -</h4>"
      ]
    },
    {
      "cell_type": "code",
      "metadata": {
        "id": "d9iicF5VVFQl"
      },
      "source": [
        "from sklearn.model_selection import train_test_split"
      ],
      "execution_count": null,
      "outputs": []
    },
    {
      "cell_type": "code",
      "metadata": {
        "id": "UsV-gqBFVLk-"
      },
      "source": [
        "X = df.drop('Yes',axis=1)\n",
        "y = df['Yes']\n",
        "X_train, X_test, y_train, y_test = train_test_split(X, y, stratify=y, test_size=0.30, random_state=1010)"
      ],
      "execution_count": null,
      "outputs": []
    },
    {
      "cell_type": "markdown",
      "metadata": {
        "id": "jiMvkrYtVgLc"
      },
      "source": [
        "<h4>- training & prediction -</h4>"
      ]
    },
    {
      "cell_type": "code",
      "metadata": {
        "id": "NP8kfTvcVknI"
      },
      "source": [
        "from sklearn.linear_model import LogisticRegression"
      ],
      "execution_count": null,
      "outputs": []
    },
    {
      "cell_type": "code",
      "metadata": {
        "colab": {
          "base_uri": "https://localhost:8080/"
        },
        "id": "XF_OldCSVo3Q",
        "outputId": "64b2f59c-04da-4c7c-e96f-52fa43ddc752"
      },
      "source": [
        "model = LogisticRegression()\n",
        "model.fit(X_train,y_train)"
      ],
      "execution_count": null,
      "outputs": [
        {
          "output_type": "stream",
          "text": [
            "/usr/local/lib/python3.7/dist-packages/sklearn/linear_model/_logistic.py:940: ConvergenceWarning: lbfgs failed to converge (status=1):\n",
            "STOP: TOTAL NO. of ITERATIONS REACHED LIMIT.\n",
            "\n",
            "Increase the number of iterations (max_iter) or scale the data as shown in:\n",
            "    https://scikit-learn.org/stable/modules/preprocessing.html\n",
            "Please also refer to the documentation for alternative solver options:\n",
            "    https://scikit-learn.org/stable/modules/linear_model.html#logistic-regression\n",
            "  extra_warning_msg=_LOGISTIC_SOLVER_CONVERGENCE_MSG)\n"
          ],
          "name": "stderr"
        },
        {
          "output_type": "execute_result",
          "data": {
            "text/plain": [
              "LogisticRegression(C=1.0, class_weight=None, dual=False, fit_intercept=True,\n",
              "                   intercept_scaling=1, l1_ratio=None, max_iter=100,\n",
              "                   multi_class='auto', n_jobs=None, penalty='l2',\n",
              "                   random_state=None, solver='lbfgs', tol=0.0001, verbose=0,\n",
              "                   warm_start=False)"
            ]
          },
          "metadata": {
            "tags": []
          },
          "execution_count": 74
        }
      ]
    },
    {
      "cell_type": "code",
      "metadata": {
        "id": "LZyTn_X5V68G"
      },
      "source": [
        "output = model.predict(X_test)"
      ],
      "execution_count": null,
      "outputs": []
    },
    {
      "cell_type": "markdown",
      "metadata": {
        "id": "-vG4G9NnWA9q"
      },
      "source": [
        "<h1>== evaluation == </h1>\n"
      ]
    },
    {
      "cell_type": "code",
      "metadata": {
        "id": "e7_ju9AKWESf"
      },
      "source": [
        "from sklearn.metrics import classification_report"
      ],
      "execution_count": null,
      "outputs": []
    },
    {
      "cell_type": "code",
      "metadata": {
        "colab": {
          "base_uri": "https://localhost:8080/"
        },
        "id": "PCNE3PlZWH5J",
        "outputId": "6dbd51c4-6f88-400f-a67c-2c4823c780e0"
      },
      "source": [
        "print(classification_report(y_test,output))"
      ],
      "execution_count": null,
      "outputs": [
        {
          "output_type": "stream",
          "text": [
            "              precision    recall  f1-score   support\n",
            "\n",
            "           0       0.82      0.88      0.85       165\n",
            "           1       0.79      0.69      0.74       103\n",
            "\n",
            "    accuracy                           0.81       268\n",
            "   macro avg       0.80      0.79      0.79       268\n",
            "weighted avg       0.81      0.81      0.81       268\n",
            "\n"
          ],
          "name": "stdout"
        }
      ]
    },
    {
      "cell_type": "code",
      "metadata": {
        "id": "jOVc3LmoWJ57"
      },
      "source": [
        ""
      ],
      "execution_count": null,
      "outputs": []
    }
  ]
}
